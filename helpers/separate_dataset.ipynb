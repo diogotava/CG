{
 "cells": [
  {
   "cell_type": "code",
   "execution_count": 21,
   "id": "naked-pension",
   "metadata": {},
   "outputs": [],
   "source": [
    "import glob\n",
    "import os\n",
    "import random\n",
    "\n",
    "percentage = 0.3\n",
    "samples_per_image = 30\n",
    "\n",
    "dirname = '../Final_Training/Images/'\n",
    "destination_dir = '../Final_Validation/Images/'\n",
    "dirfiles = glob.glob(dirname + '*')\n",
    "\n",
    "for class_dir in dirfiles:\n",
    "    if os.path.isdir(class_dir):\n",
    "        class_name = os.path.basename(class_dir)\n",
    "        arr = glob.glob(class_dir + '\\*.png')\n",
    "        different_images = (len(arr) / samples_per_image)\n",
    "        images_for_validation = int(different_images * percentage)\n",
    "        \n",
    "        selected_series = random.sample(range(0, int(different_images)), images_for_validation)\n",
    "\n",
    "        for selected_serie in selected_series:\n",
    "            if selected_serie < 10:\n",
    "                serie = f\"0000{selected_serie}_\"\n",
    "            else:\n",
    "                serie =f\"000{selected_serie}_\"\n",
    "            \n",
    "            original_path = dirname + class_name + '/' + serie + '*.png'; \n",
    "            selected_images = glob.glob(original_path)\n",
    "            destination_with_class = destination_dir + class_name + '/'\n",
    "            \n",
    "            if not os.path.exists(destination_with_class):\n",
    "                os.mkdir(destination_with_class)\n",
    "            \n",
    "            for image_path in selected_images:\n",
    "                image_name = os.path.basename(image_path)\n",
    "                os.rename(image_path, destination_with_class + image_name)\n",
    "    \n",
    "\n"
   ]
  }
 ],
 "metadata": {
  "kernelspec": {
   "display_name": "Python 3",
   "language": "python",
   "name": "python3"
  },
  "language_info": {
   "codemirror_mode": {
    "name": "ipython",
    "version": 3
   },
   "file_extension": ".py",
   "mimetype": "text/x-python",
   "name": "python",
   "nbconvert_exporter": "python",
   "pygments_lexer": "ipython3",
   "version": "3.8.8"
  }
 },
 "nbformat": 4,
 "nbformat_minor": 5
}
