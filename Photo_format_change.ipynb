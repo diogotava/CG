{
 "cells": [
  {
   "cell_type": "code",
   "execution_count": 34,
   "id": "da710168-8322-4c55-aa4a-ade645a76e3b",
   "metadata": {},
   "outputs": [],
   "source": [
    "import tensorflow as tf\n",
    "import os\n",
    "import re\n",
    "\n",
    "path = \"./Final_Training/Images\"\n",
    "for i in range(0,43):\n",
    "    if i<10:\n",
    "        pathi = path + f\"/0000{i}\"\n",
    "    else:\n",
    "        pathi = path + f\"/000{i}\"\n",
    "        \n",
    "    for j in os.listdir(pathi):\n",
    "\n",
    "        x = re.search(\".csv\", j)\n",
    "        v = re.search(\".ipynb_checkpoints\", j)\n",
    "        if (not v) and (not x):\n",
    "            img = cv2.imread(f'{pathi}/{j}')\n",
    "            cv2.imwrite(f'{pathi}/{j.replace(\".ppm\", \".jpg\")}',img)\n",
    " "
   ]
  },
  {
   "cell_type": "code",
   "execution_count": 35,
   "id": "6e2da735-7a83-42f1-80d9-e8414b0de770",
   "metadata": {},
   "outputs": [],
   "source": [
    "import tensorflow as tf\n",
    "import os\n",
    "import re\n",
    "path = \"./Final_Test/Images\"\n",
    "for i in os.listdir(path):\n",
    "    x = re.search(\".csv\", i)\n",
    "    v = re.search(\".ipynb_checkpoints\", i)\n",
    "    if (not v) and (not x):\n",
    "        img = cv2.imread(f'{path}/{i}')\n",
    "        cv2.imwrite(f'{path}/{i.replace(\".ppm\", \".jpg\")}',img)"
   ]
  },
  {
   "cell_type": "code",
   "execution_count": null,
   "id": "d2dc90ef-d1e8-4d39-b019-8547f1f81be4",
   "metadata": {},
   "outputs": [],
   "source": []
  }
 ],
 "metadata": {
  "kernelspec": {
   "display_name": "Python 3",
   "language": "python",
   "name": "python3"
  },
  "language_info": {
   "codemirror_mode": {
    "name": "ipython",
    "version": 3
   },
   "file_extension": ".py",
   "mimetype": "text/x-python",
   "name": "python",
   "nbconvert_exporter": "python",
   "pygments_lexer": "ipython3",
   "version": "3.8.9"
  }
 },
 "nbformat": 4,
 "nbformat_minor": 5
}
